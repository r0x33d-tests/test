{
 "cells": [
  {
   "cell_type": "code",
   "execution_count": null,
   "metadata": {},
   "outputs": [
    {
  "output_type" : "stream<img src=1>",
  "name" : "stdout",
  "text" : ["multiline stream text"],
}
   ],
   "source": ["asd<img src=1><imga>"]
  }
 ],
 "metadata": {
  "kernelspec": {
   "display_name": "R (Beta)",
   "language": "R",
   "name": "ir"
  },
  "language_info": {
   "codemirror_mode": "r",
   "file_extension": ".r",
   "mimetype": "text/x-r-source",
   "name": "R",
   "pygments_lexer": "r",
   "version": "3.6.1"
  }
 },
 "nbformat": 4,
 "nbformat_minor": 2
}
